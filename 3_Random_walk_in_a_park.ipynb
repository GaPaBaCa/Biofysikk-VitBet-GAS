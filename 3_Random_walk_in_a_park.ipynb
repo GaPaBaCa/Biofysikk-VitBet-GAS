{
 "cells": [
  {
   "cell_type": "code",
   "execution_count": null,
   "metadata": {},
   "outputs": [],
   "source": [
    "import numpy as np\n",
    "import matplotlib.pyplot as plt\n",
    "\n",
    "#Set parameters\n",
    "alpha = 0.1\n",
    "Tp = 200 #time period for which particles stay in a potential state\n",
    "h = 1 #step length\n",
    "Nx = 100 #steps per potential perios\n"
   ]
  },
  {
   "cell_type": "code",
   "execution_count": null,
   "metadata": {},
   "outputs": [],
   "source": [
    "import numpy as np\n",
    "import matplotlib.pyplot as plt\n",
    "\n",
    "# Set parameters\n",
    "Nx = 100                # Steps per potential period\n",
    "total_positions = 2 * Nx  # Full x-axis range (200 positions)\n",
    "Tp = 200                # Time period before transition\n",
    "num_cycles = 75         # Number of cycles\n",
    "num_particles = 3       # Number of particles\n",
    "h = 1                   # Step size\n",
    "total_steps = num_cycles * 2 * Tp  # Total simulation time = 30,000\n",
    "alpha = 0.1             # Bias in movement probability\n",
    "beta_k = 1000           # Strength of ratchet potential\n",
    "\n",
    "# Initialize particle positions\n",
    "X = np.zeros(num_particles, dtype=int)  # All particles start at X = 0\n",
    "\n",
    "# Store positions at the end of each cycle\n",
    "positions_over_time = np.zeros((num_cycles, num_particles))\n",
    "\n",
    "# Function to compute biased probability using beta_k\n",
    "def biased_probability(alpha, beta_k):\n",
    "    return 1 / (1 + np.exp(-beta_k * alpha))  # Sigmoid function\n",
    "\n",
    "# Get probability of moving right\n",
    "p_right = biased_probability(alpha, beta_k)\n",
    "\n",
    "# Run the simulation\n",
    "for cycle in range(num_cycles):\n",
    "    for _ in range(2 * Tp):  # Each cycle consists of 400 time steps\n",
    "        # Move right with probability p_right, left otherwise\n",
    "        steps = np.where(np.random.rand(num_particles) < p_right, h, -h)\n",
    "        \n",
    "\n",
    "        # Update positions\n",
    "        X += steps\n",
    "\n",
    "        # Apply periodic boundary conditions\n",
    "        X[X < 0] += total_positions  # If X < 0, wrap around to 199\n",
    "        X[X >= total_positions] -= total_positions  # If X > 199, wrap to 0\n",
    "\n",
    "    # Store positions at the end of the cycle\n",
    "    positions_over_time[cycle] = X\n",
    "\n",
    "# Plot results\n",
    "plt.figure(figsize=(10, 6))\n",
    "for i in range(num_particles):\n",
    "    plt.plot(range(num_cycles), positions_over_time[:, i], label=f'Particle {i+1}')\n",
    "\n",
    "plt.xlabel(\"Cycle Number\")\n",
    "plt.ylabel(\"Absolute Position\n"
   ]
  },
  {
   "cell_type": "code",
   "execution_count": null,
   "metadata": {},
   "outputs": [],
   "source": []
  }
 ],
 "metadata": {
  "kernelspec": {
   "display_name": "Python 3",
   "language": "python",
   "name": "python3"
  },
  "language_info": {
   "name": "python",
   "version": "3.11.5"
  }
 },
 "nbformat": 4,
 "nbformat_minor": 2
}
