{
 "cells": [
  {
   "cell_type": "code",
   "execution_count": null,
   "id": "5deca5b2-909c-453a-bfc4-f342b3c9547f",
   "metadata": {
    "vscode": {
     "languageId": "python"
    }
   },
   "outputs": [],
   "source": []
  },
  {
   "cell_type": "markdown",
   "id": "2d4b9a43",
   "metadata": {},
   "source": [
    "# **Exercises**  \n",
    "*The diffusion equation*  \n",
    "\n",
    "## **Exercise 1a)**  \n",
    "Show that  \n",
    "$$\n",
    "\\phi(x,t) = \\frac{1}{\\sqrt{4\\pi D t}} \\int_{-\\infty}^{\\infty} dy\\ h(y) e^{-\\frac{(x-y)^2}{4Dt}}\n",
    "$$\n",
    "\n",
    "\n",
    "is a solution of the diffusion equation.\n",
    "\n",
    "Let $\\phi(x,t)$ represent a distribution of particles along the $x$-axis at time $t \\geq 0$. Give a physical interpretation of $h(y)$.  \n",
    "*Hint: let $t \\to 0$ in Eq. (6).*\n"
   ]
  },
  {
   "cell_type": "markdown",
   "id": "37c04261",
   "metadata": {},
   "source": [
    "**Solution** : We have a function $\\phi(x,t)$ that describes how particles are spread out along a line (the \\( x \\)-axis) at different times \\( t \\). \n",
    "\n",
    "We need to show that this function follows the **diffusion equation**, which is a rule that describes how things like heat or particles spread out over time.\n",
    "\n",
    "The **diffusion equation** looks like this:\n",
    "\n",
    "$$\n",
    "\\frac{\\partial \\phi(x,t)}{\\partial t} = D \\frac{\\partial^2 \\phi(x,t)}{\\partial x^2}.\n",
    "$$\n",
    "\n",
    "This equation says that the way $\\( \\frac{\\partial \\phi(x,t)}{\\partial t} \\)$ changes over time is related to how it changes in space:\n",
    "\n",
    "$$\n",
    "\\frac{\\partial^2 \\phi(x,t)}{\\partial x^2}.\n",
    "$$\n"
   ]
  },
  {
   "cell_type": "markdown",
   "id": "595feaa0",
   "metadata": {},
   "source": [
    "  We start by spliting up $\\phi(x,t)$ into two functions where  \n",
    "$f(x) = \\frac{1}{\\sqrt{4\\pi Dt}}$  \n",
    "and  \n",
    "$g(x) = \\int_{-\\infty}^{\\infty} dy\\ h(y) e^{-\\frac{(x-y)^2}{4Dt}}$.\n",
    "\n"
   ]
  },
  {
   "cell_type": "markdown",
   "id": "1c042440",
   "metadata": {},
   "source": []
  }
 ],
 "metadata": {
  "kernelspec": {
   "display_name": "",
   "name": ""
  },
  "language_info": {
   "name": ""
  }
 },
 "nbformat": 4,
 "nbformat_minor": 5
}
