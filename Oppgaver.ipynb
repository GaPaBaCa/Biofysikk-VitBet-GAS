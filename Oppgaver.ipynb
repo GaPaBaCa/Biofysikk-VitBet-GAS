{
 "cells": [
  {
   "cell_type": "code",
   "execution_count": null,
   "id": "5deca5b2-909c-453a-bfc4-f342b3c9547f",
   "metadata": {
    "vscode": {
     "languageId": "python"
    }
   },
   "outputs": [],
   "source": []
  }
 ],
 "metadata": {
  "kernelspec": {
   "display_name": "",
   "name": ""
  },
  "language_info": {
   "name": ""
  }
 },
 "nbformat": 4,
 "nbformat_minor": 5
}
